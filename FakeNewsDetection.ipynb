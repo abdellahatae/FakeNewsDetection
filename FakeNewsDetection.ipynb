{
  "nbformat": 4,
  "nbformat_minor": 0,
  "metadata": {
    "colab": {
      "provenance": [],
      "authorship_tag": "ABX9TyP99R95UpPtK7+usLET5wIP",
      "include_colab_link": true
    },
    "kernelspec": {
      "name": "python3",
      "display_name": "Python 3"
    },
    "language_info": {
      "name": "python"
    }
  },
  "cells": [
    {
      "cell_type": "markdown",
      "metadata": {
        "id": "view-in-github",
        "colab_type": "text"
      },
      "source": [
        "<a href=\"https://colab.research.google.com/github/abdellahatae/FakeNewsDetection/blob/main/FakeNewsDetection.ipynb\" target=\"_parent\"><img src=\"https://colab.research.google.com/assets/colab-badge.svg\" alt=\"Open In Colab\"/></a>"
      ]
    },
    {
      "cell_type": "code",
      "execution_count": 1,
      "metadata": {
        "colab": {
          "base_uri": "https://localhost:8080/"
        },
        "id": "jAcu8FIUmIvU",
        "outputId": "ba2fe1b9-d60f-463a-ff81-5a670df8206f"
      },
      "outputs": [
        {
          "output_type": "stream",
          "name": "stdout",
          "text": [
            "              precision    recall  f1-score   support\n",
            "\n",
            "        FAKE       1.00      1.00      1.00      4733\n",
            "        REAL       1.00      0.99      1.00      4247\n",
            "\n",
            "    accuracy                           1.00      8980\n",
            "   macro avg       1.00      1.00      1.00      8980\n",
            "weighted avg       1.00      1.00      1.00      8980\n",
            "\n",
            "✅ Modèle enregistré dans fake_news_model.pkl\n"
          ]
        }
      ],
      "source": [
        "# fake_news_detection_starter.ipynb\n",
        "\n",
        "import pandas as pd\n",
        "from sklearn.model_selection import train_test_split\n",
        "from sklearn.feature_extraction.text import TfidfVectorizer\n",
        "from sklearn.pipeline import Pipeline\n",
        "from sklearn.svm import LinearSVC\n",
        "from sklearn.metrics import classification_report\n",
        "import joblib\n",
        "\n",
        "# Charger les fichiers locaux\n",
        "fake = pd.read_csv(\"fake.csv\")\n",
        "real = pd.read_csv(\"real.csv\")\n",
        "\n",
        "# Ajouter une colonne \"label\"\n",
        "fake[\"label\"] = \"FAKE\"\n",
        "real[\"label\"] = \"REAL\"\n",
        "\n",
        "# Fusionner\n",
        "df = pd.concat([fake, real], ignore_index=True)\n",
        "\n",
        "# Texte d'entrée = title + body\n",
        "df[\"full_text\"] = df[\"title\"].fillna('') + \" \" + df[\"text\"].fillna('')\n",
        "\n",
        "# Features / labels\n",
        "X = df[\"full_text\"]\n",
        "y = df[\"label\"]\n",
        "\n",
        "# Split en train/test\n",
        "X_train, X_test, y_train, y_test = train_test_split(X, y, test_size=0.2, random_state=42)\n",
        "\n",
        "# Pipeline : TF-IDF + SVM\n",
        "pipeline = Pipeline([\n",
        "    ('tfidf', TfidfVectorizer(stop_words='english', max_df=0.7)),\n",
        "    ('clf', LinearSVC())\n",
        "])\n",
        "\n",
        "# Entraînement\n",
        "pipeline.fit(X_train, y_train)\n",
        "\n",
        "# Évaluation\n",
        "y_pred = pipeline.predict(X_test)\n",
        "print(classification_report(y_test, y_pred))\n",
        "\n",
        "# Sauvegarde du modèle\n",
        "joblib.dump(pipeline, \"fake_news_model.pkl\")\n",
        "print(\"✅ Modèle enregistré dans fake_news_model.pkl\")\n"
      ]
    }
  ]
}